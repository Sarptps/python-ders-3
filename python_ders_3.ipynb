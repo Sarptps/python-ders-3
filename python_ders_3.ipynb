{
  "nbformat": 4,
  "nbformat_minor": 0,
  "metadata": {
    "colab": {
      "provenance": []
    },
    "kernelspec": {
      "name": "python3",
      "display_name": "Python 3"
    },
    "language_info": {
      "name": "python"
    }
  },
  "cells": [
    {
      "cell_type": "code",
      "execution_count": null,
      "metadata": {
        "colab": {
          "base_uri": "https://localhost:8080/"
        },
        "id": "dRVawru5_Dqp",
        "outputId": "f98e2a20-c7fa-4c4f-e17e-96a01c3d746e"
      },
      "outputs": [
        {
          "output_type": "stream",
          "name": "stdout",
          "text": [
            "Merhaba,İGÜ - İSTKA!\n"
          ]
        }
      ],
      "source": [
        "print(\"Merhaba,İGÜ - İSTKA!\") # print ekrana cıktı veren bır koddur."
      ]
    },
    {
      "cell_type": "code",
      "source": [
        "import sys # import python proglamlama dilinde kütüphane eklemeye yarayan bir kod blogudur\n",
        "print(sys.version)"
      ],
      "metadata": {
        "colab": {
          "base_uri": "https://localhost:8080/"
        },
        "id": "BAKJZ8nx_QLS",
        "outputId": "873bb1e7-c8c7-48ea-e9da-bb3e3e8fdef5"
      },
      "execution_count": null,
      "outputs": [
        {
          "output_type": "stream",
          "name": "stdout",
          "text": [
            "3.10.12 (main, Jul 29 2024, 16:56:48) [GCC 11.4.0]\n"
          ]
        }
      ]
    },
    {
      "cell_type": "code",
      "source": [
        "from google.colab import drive # google colab - drive bağlantısı\n",
        "drive.mount('/content/drive')"
      ],
      "metadata": {
        "colab": {
          "base_uri": "https://localhost:8080/"
        },
        "id": "s3PGNX-H_TOy",
        "outputId": "9ea85c62-f50c-45ed-d208-1181ac897b4d"
      },
      "execution_count": null,
      "outputs": [
        {
          "output_type": "stream",
          "name": "stdout",
          "text": [
            "Mounted at /content/drive\n"
          ]
        }
      ]
    },
    {
      "cell_type": "code",
      "source": [
        "import os\n",
        "os.chdir ('/content/drive/My Drive/python ders 3')\n",
        "! pwd # bize kodun çıktısını dosya yolu olarak veren kod blogudur"
      ],
      "metadata": {
        "colab": {
          "base_uri": "https://localhost:8080/"
        },
        "id": "vAgCCNUd_YjR",
        "outputId": "d0d01196-86a2-4ff4-d5e5-8f25385ffb37"
      },
      "execution_count": null,
      "outputs": [
        {
          "output_type": "stream",
          "name": "stdout",
          "text": [
            "/content/drive/My Drive/python ders 3\n"
          ]
        }
      ]
    },
    {
      "cell_type": "code",
      "source": [],
      "metadata": {
        "id": "KdwZ8rOW_ca5"
      },
      "execution_count": null,
      "outputs": []
    },
    {
      "cell_type": "code",
      "source": [
        "from re import I\n",
        "# for döngüsü örneği: 0'dan 4'e kadar olan sayıları yazdırılması işlemidir.\n",
        "for İ in range(5):\n",
        "     print(İ)"
      ],
      "metadata": {
        "colab": {
          "base_uri": "https://localhost:8080/"
        },
        "id": "-AGyA4IyE4p8",
        "outputId": "8fa5dc6a-8450-48f3-8f12-97552a50e286"
      },
      "execution_count": null,
      "outputs": [
        {
          "output_type": "stream",
          "name": "stdout",
          "text": [
            "0\n",
            "1\n",
            "2\n",
            "3\n",
            "4\n"
          ]
        }
      ]
    },
    {
      "cell_type": "code",
      "source": [
        "# for döngüsü örneği: alışveriş listesi oluşturma\n",
        "liste = ['elma,'ekmek','süt','peynir]\n",
        "\n",
        "for alinacaklar in liste:\n",
        "    print(alınacaklar)"
      ],
      "metadata": {
        "colab": {
          "base_uri": "https://localhost:8080/"
        },
        "id": "WL6PGs8OFjgk",
        "outputId": "254ffebd-7ef7-4ee5-e6b1-f7c170046645"
      },
      "execution_count": null,
      "outputs": [
        {
          "output_type": "stream",
          "name": "stdout",
          "text": [
            "elma,ekmek,süt,peynir\n",
            "elma,ekmek,süt,peynir\n",
            "elma,ekmek,süt,peynir\n",
            "elma,ekmek,süt,peynir\n"
          ]
        }
      ]
    },
    {
      "cell_type": "code",
      "source": [
        "# for döngüsü örneği: bir sınıftaki öğrencilerin notlarının ortalaması\n",
        "notlar = [ 85,92,78,90,88]\n",
        "\n",
        "toplam = 0\n",
        "for sayi in notlar:\n",
        "    toplam += sayi # toplam = toplam + sayi\n",
        "\n",
        "ortalama = toplam / len(notlar)\n",
        "\n",
        "print(\"Birinci print -> Not ortalaması\",ortalama)\n",
        "\n",
        "print(f\"İkinci print -> Not ortalaması\", {ortalama})"
      ],
      "metadata": {
        "colab": {
          "base_uri": "https://localhost:8080/"
        },
        "id": "1fbEID9pHwNQ",
        "outputId": "3c2f6ff8-8817-4558-b2c8-399ada201a88"
      },
      "execution_count": null,
      "outputs": [
        {
          "output_type": "stream",
          "name": "stdout",
          "text": [
            "Birinci print -> Not ortalaması 86.6\n",
            "İkinci print -> Not ortalaması {86.6}\n"
          ]
        }
      ]
    },
    {
      "cell_type": "code",
      "source": [
        "# while döngüsü örneği: 0'dan 4'e kadar olan sayıları yazdırılması işlemidir.\n",
        "İ = 0\n",
        "while İ < 5:\n",
        "    print(İ)\n",
        "    İ +=1"
      ],
      "metadata": {
        "colab": {
          "base_uri": "https://localhost:8080/"
        },
        "id": "5Qlv4o5NVLVu",
        "outputId": "140681a9-e0c6-4271-8095-9121efa646b1"
      },
      "execution_count": null,
      "outputs": [
        {
          "output_type": "stream",
          "name": "stdout",
          "text": [
            "0\n",
            "1\n",
            "2\n",
            "3\n",
            "4\n"
          ]
        }
      ]
    },
    {
      "cell_type": "code",
      "source": [
        "# kullanıcıdan bir sayı alınması\n",
        "user_input = int(input(\"Bir sayı girin:\"))\n",
        "\n",
        "# 0'dan kullanıcı tarafından girilen sayıya kadar sıralama yapma\n",
        "İ = 0\n",
        "while İ <= user_input:\n",
        "      print(İ)\n",
        "      İ +=1"
      ],
      "metadata": {
        "colab": {
          "base_uri": "https://localhost:8080/"
        },
        "id": "a0G1H1E0WSyf",
        "outputId": "bc16317f-94be-4f5a-d09d-6402f97cccfe"
      },
      "execution_count": null,
      "outputs": [
        {
          "output_type": "stream",
          "name": "stdout",
          "text": [
            "Bir sayı girin:10\n",
            "0\n",
            "1\n",
            "2\n",
            "3\n",
            "4\n",
            "5\n",
            "6\n",
            "7\n",
            "8\n",
            "9\n",
            "10\n"
          ]
        }
      ]
    },
    {
      "cell_type": "code",
      "source": [
        "# break örneğ: 3'e ulaştığında döngü sonlandıran kod blogudur.\n",
        "for i in range(5):\n",
        "    if i == 3:\n",
        "         break\n",
        "    print(i)"
      ],
      "metadata": {
        "colab": {
          "base_uri": "https://localhost:8080/"
        },
        "id": "MEwGnDfgXjN4",
        "outputId": "3cebe46d-1760-4006-f013-9d9aef7a363d"
      },
      "execution_count": null,
      "outputs": [
        {
          "output_type": "stream",
          "name": "stdout",
          "text": [
            "0\n",
            "1\n",
            "2\n"
          ]
        }
      ]
    },
    {
      "cell_type": "code",
      "source": [
        "# continue örneği: 3'e ulaştığında o tekrar işlemini es geçen kod bloğudur.\n",
        "for i in range(5):\n",
        "   if i == 3:\n",
        "      continue\n",
        "   print(i)"
      ],
      "metadata": {
        "colab": {
          "base_uri": "https://localhost:8080/"
        },
        "id": "r4JEuPL-YGvt",
        "outputId": "b93fae80-0704-4a7c-8da8-8d800802f212"
      },
      "execution_count": null,
      "outputs": [
        {
          "output_type": "stream",
          "name": "stdout",
          "text": [
            "0\n",
            "1\n",
            "2\n",
            "4\n"
          ]
        }
      ]
    },
    {
      "cell_type": "code",
      "source": [
        "# iç içe for döngüsü örneği: 2 boyutlu bir matrisin elemanları üzerinde işlemler\n",
        "matris = [\n",
        "    [1,2,3],\n",
        "    [4,5,6],\n",
        "    [7,8,9]\n",
        "    ]\n",
        "for x in matris:\n",
        "     for y in x:\n",
        "         print(y)\n"
      ],
      "metadata": {
        "colab": {
          "base_uri": "https://localhost:8080/"
        },
        "id": "_B5oH6nYYZJU",
        "outputId": "135e5941-00dc-4ca8-ea45-55232c0a3fa0"
      },
      "execution_count": null,
      "outputs": [
        {
          "output_type": "stream",
          "name": "stdout",
          "text": [
            "1\n",
            "2\n",
            "3\n",
            "4\n",
            "5\n",
            "6\n",
            "7\n",
            "8\n",
            "9\n"
          ]
        }
      ]
    },
    {
      "cell_type": "code",
      "source": [
        "# kullanıcıdan bilgi alınması\n",
        "while True:\n",
        "     try:\n",
        "         gelen_bilgi = int(input(\"Bir sayı giriniz\"))\n",
        "         break\n",
        "     except ValueError:\n",
        "      print(\"Lütfen geçerli bir sayı giriniz\")\n",
        "\n",
        "#0'dan kullanıcı tarafından girilen sayıya kadar sıralama yapma\n",
        "i = 0\n",
        "while i <= gelen_bilgi:\n",
        "     print(i)\n",
        "     i +=1"
      ],
      "metadata": {
        "colab": {
          "base_uri": "https://localhost:8080/"
        },
        "id": "-sZqSKolZzRe",
        "outputId": "06d7f523-21a5-4f80-e945-ce141d9cfed9"
      },
      "execution_count": null,
      "outputs": [
        {
          "output_type": "stream",
          "name": "stdout",
          "text": [
            "Bir sayı giriniz3\n",
            "0\n",
            "1\n",
            "2\n",
            "3\n"
          ]
        }
      ]
    },
    {
      "cell_type": "code",
      "source": [
        "# while döngüsü örneği: kullanıcı bakiye bilgisnini sorgulamaası\n",
        "toplam_ucret=1000\n",
        "\n",
        "while toplam_ucret>0:\n",
        "  try:\n",
        "    celilen_tutar = int (input(\"Çekmek istediğiniz miktarı girin:\"))\n",
        "    if celilen_tutar > toplam_ucret:\n",
        "      print(\"Yetersiz bakiye!\")\n",
        "      bilgi = input(\"işleme devam etmek istiyor musunuz? (e/h):\").lower()\n",
        "      if bilgi == \"h\":\n",
        "        print(\"İşlem sonlandırıldı.\")\n",
        "        break\n",
        "\n",
        "    else:\n",
        "      toplam_ucret -= celilen_tutar\n",
        "      print(f\"kalan bakiye: { toplam_ucret}\")\n",
        "    if toplam_ucret == 0:\n",
        "      print(\"Bakiye tükendi.\")\n",
        "    break\n",
        "  except ValueError:\n",
        "    print(\"Lütfen geçerli bir sayı girin!\")\n",
        "\n"
      ],
      "metadata": {
        "colab": {
          "base_uri": "https://localhost:8080/"
        },
        "id": "tK5m_wN1cUY1",
        "outputId": "83a399a5-adcd-41ea-bf22-cf72c4b740d0"
      },
      "execution_count": 124,
      "outputs": [
        {
          "output_type": "stream",
          "name": "stdout",
          "text": [
            "Çekmek istediğiniz miktarı girin:123\n",
            "kalan bakiye: 877\n"
          ]
        }
      ]
    }
  ]
}